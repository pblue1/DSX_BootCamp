{
    "nbformat_minor": 0, 
    "cells": [
        {
            "cell_type": "markdown", 
            "metadata": {
                "collapsed": true
            }, 
            "source": "# In-and export from DashDB\n\nUseful doc: \nhttp://pythonhosted.org/ibmdbpy/start.html"
        }, 
        {
            "outputs": [], 
            "cell_type": "code", 
            "metadata": {
                "collapsed": true
            }, 
            "execution_count": 1, 
            "source": "#imports\nimport ibmdbpy\nfrom ibmdbpy import IdaDataBase, IdaDataFrame\n\nimport pandas as pd\nimport numpy as np"
        }, 
        {
            "outputs": [
                {
                    "output_type": "execute_result", 
                    "metadata": {}, 
                    "data": {
                        "text/html": "<div>\n<table border=\"1\" class=\"dataframe\">\n  <thead>\n    <tr style=\"text-align: right;\">\n      <th></th>\n      <th>a</th>\n      <th>b</th>\n      <th>c</th>\n    </tr>\n  </thead>\n  <tbody>\n    <tr>\n      <th>0</th>\n      <td>0.158123</td>\n      <td>0.489665</td>\n      <td>0.573254</td>\n    </tr>\n    <tr>\n      <th>1</th>\n      <td>0.225650</td>\n      <td>0.352501</td>\n      <td>0.563579</td>\n    </tr>\n    <tr>\n      <th>2</th>\n      <td>0.815364</td>\n      <td>0.135445</td>\n      <td>0.683894</td>\n    </tr>\n    <tr>\n      <th>3</th>\n      <td>0.637150</td>\n      <td>0.781579</td>\n      <td>0.092305</td>\n    </tr>\n    <tr>\n      <th>4</th>\n      <td>0.135971</td>\n      <td>0.980652</td>\n      <td>0.278464</td>\n    </tr>\n  </tbody>\n</table>\n</div>", 
                        "text/plain": "          a         b         c\n0  0.158123  0.489665  0.573254\n1  0.225650  0.352501  0.563579\n2  0.815364  0.135445  0.683894\n3  0.637150  0.781579  0.092305\n4  0.135971  0.980652  0.278464"
                    }, 
                    "execution_count": 2
                }
            ], 
            "cell_type": "code", 
            "metadata": {
                "scrolled": true, 
                "collapsed": false
            }, 
            "execution_count": 2, 
            "source": "# create some data\nrandom_data=pd.DataFrame(np.random.random((1000, 3)),columns=['a','b','c'])\nrandom_data.head()"
        }, 
        {
            "outputs": [], 
            "cell_type": "code", 
            "metadata": {
                "collapsed": false
            }, 
            "execution_count": 6, 
            "source": "# The code was removed by DSX for sharing."
        }, 
        {
            "outputs": [
                {
                    "name": "stdout", 
                    "output_type": "stream", 
                    "text": "Uploading 1000 rows (maxnrow was set to 2666)\n"
                }
            ], 
            "cell_type": "code", 
            "metadata": {
                "collapsed": false
            }, 
            "execution_count": 7, 
            "source": "# use case: you have some data in Python (for example from a csv file) and you want to upload it to a database\n\nidadb = IdaDataBase(dsn=\"DASHDB;Database=BLUDB;Hostname=\" + \n                    credentials_1[\"host\"] + \";Port=50000;PROTOCOL=TCPIP;UID=\" + \n                    credentials_1[\"user\"] + \";PWD=\" + \n                    credentials_1[\"password\"])\n\nidadf = idadb.as_idadataframe(random_data, \"RANDOM_DATA\", clear_existing=True) #input: a Pandas dataframe"
        }, 
        {
            "outputs": [
                {
                    "name": "stdout", 
                    "output_type": "stream", 
                    "text": "Uploading 1000 rows (maxnrow was set to 2666)\n"
                }
            ], 
            "cell_type": "code", 
            "metadata": {
                "collapsed": false
            }, 
            "execution_count": 8, 
            "source": "# use case: you have an existing table and you want to append additional records\n\nRANDOM_DATA_DATAFRAME = IdaDataFrame(idadb, 'RANDOM_DATA')  #define the IdaDataFrame\n   \nidadb.append(RANDOM_DATA_DATAFRAME,random_data) # add the Pandas Dataframe 'random_data' once more to the database\nRANDOM_DATA_DATAFRAME.commit() #ensure a commit or else you won't see the addition"
        }, 
        {
            "outputs": [
                {
                    "output_type": "execute_result", 
                    "metadata": {}, 
                    "data": {
                        "text/html": "<div>\n<table border=\"1\" class=\"dataframe\">\n  <thead>\n    <tr style=\"text-align: right;\">\n      <th></th>\n      <th>a</th>\n      <th>b</th>\n      <th>c</th>\n    </tr>\n  </thead>\n  <tbody>\n    <tr>\n      <th>0</th>\n      <td>0.032965</td>\n      <td>0.453343</td>\n      <td>0.285573</td>\n    </tr>\n    <tr>\n      <th>1</th>\n      <td>0.043169</td>\n      <td>0.214963</td>\n      <td>0.801483</td>\n    </tr>\n    <tr>\n      <th>2</th>\n      <td>0.723268</td>\n      <td>0.865795</td>\n      <td>0.733912</td>\n    </tr>\n    <tr>\n      <th>3</th>\n      <td>0.530476</td>\n      <td>0.970429</td>\n      <td>0.676283</td>\n    </tr>\n    <tr>\n      <th>4</th>\n      <td>0.027086</td>\n      <td>0.598817</td>\n      <td>0.716950</td>\n    </tr>\n  </tbody>\n</table>\n</div>", 
                        "text/plain": "          a         b         c\n0  0.032965  0.453343  0.285573\n1  0.043169  0.214963  0.801483\n2  0.723268  0.865795  0.733912\n3  0.530476  0.970429  0.676283\n4  0.027086  0.598817  0.716950"
                    }, 
                    "execution_count": 10
                }
            ], 
            "cell_type": "code", 
            "metadata": {
                "collapsed": false
            }, 
            "execution_count": 10, 
            "source": "# use case: you have data in a database and want to make it accessible to Pyton\n\nidadb = IdaDataBase(dsn=\"DASHDB;Database=BLUDB;Hostname=\" + \n                    credentials_1[\"host\"] + \";Port=50000;PROTOCOL=TCPIP;UID=\" + \n                    credentials_1[\"user\"] + \";PWD=\" + \n                    credentials_1[\"password\"])\n\nrandom_data = IdaDataFrame(idadb, 'RANDOM_DATA')\nrandom_data = random_data.as_dataframe()\nrandom_data.head()\n#random_data.shape #2000 due to the appending"
        }, 
        {
            "outputs": [
                {
                    "output_type": "execute_result", 
                    "metadata": {}, 
                    "data": {
                        "text/plain": "(2000, 3)"
                    }, 
                    "execution_count": 11
                }
            ], 
            "cell_type": "code", 
            "metadata": {
                "collapsed": false
            }, 
            "execution_count": 11, 
            "source": "random_data.shape"
        }
    ], 
    "metadata": {
        "kernelspec": {
            "display_name": "Python 2 with Spark 1.6", 
            "name": "python2", 
            "language": "python"
        }, 
        "language_info": {
            "name": "python", 
            "file_extension": ".py", 
            "version": "2.7.11", 
            "nbconvert_exporter": "python", 
            "mimetype": "text/x-python", 
            "codemirror_mode": {
                "name": "ipython", 
                "version": 2
            }, 
            "pygments_lexer": "ipython2"
        }
    }, 
    "nbformat": 4
}